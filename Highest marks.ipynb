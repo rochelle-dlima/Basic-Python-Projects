{
 "cells": [
  {
   "cell_type": "code",
   "execution_count": 8,
   "id": "62ac4149",
   "metadata": {},
   "outputs": [
    {
     "name": "stdout",
     "output_type": "stream",
     "text": [
      "199\n"
     ]
    }
   ],
   "source": [
    "student_scores = [123,102,125,167,132,199,178,178,145,128,156,173,150]\n",
    "\n",
    "#print(max(student_scores))\n",
    " \n",
    "high = 0\n",
    "\n",
    "for score in student_scores:\n",
    "    if score > high:\n",
    "        \n",
    "        high = score\n",
    "print(high)"
   ]
  },
  {
   "cell_type": "code",
   "execution_count": null,
   "id": "89c74038",
   "metadata": {},
   "outputs": [],
   "source": [
    "## Gauss Challenge"
   ]
  },
  {
   "cell_type": "code",
   "execution_count": 15,
   "id": "61917ae7",
   "metadata": {},
   "outputs": [
    {
     "name": "stdout",
     "output_type": "stream",
     "text": [
      "5050\n"
     ]
    }
   ],
   "source": [
    "total = 0\n",
    "for number in range (1,101):\n",
    "    total += number\n",
    "print (total)"
   ]
  },
  {
   "cell_type": "code",
   "execution_count": null,
   "id": "5b9417c4",
   "metadata": {},
   "outputs": [],
   "source": []
  }
 ],
 "metadata": {
  "kernelspec": {
   "display_name": "Python 3 (ipykernel)",
   "language": "python",
   "name": "python3"
  },
  "language_info": {
   "codemirror_mode": {
    "name": "ipython",
    "version": 3
   },
   "file_extension": ".py",
   "mimetype": "text/x-python",
   "name": "python",
   "nbconvert_exporter": "python",
   "pygments_lexer": "ipython3",
   "version": "3.11.5"
  }
 },
 "nbformat": 4,
 "nbformat_minor": 5
}
