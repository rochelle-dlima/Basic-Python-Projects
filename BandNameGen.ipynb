{
 "cells": [
  {
   "cell_type": "code",
   "execution_count": 2,
   "id": "f0a1e66a",
   "metadata": {},
   "outputs": [
    {
     "name": "stdout",
     "output_type": "stream",
     "text": [
      "Welcome to the Band name Generator\n",
      "Which city did you grow up in?\n",
      "dubai\n",
      "Which is your favourite pet?\n",
      "fish\n",
      "Your band name is:\n",
      " dubai fish\n"
     ]
    }
   ],
   "source": [
    "print(\"Welcome to the Band name Generator\")\n",
    "city= input(\"Which city did you grow up in?\\n\")\n",
    "pet= input(\"Which is your favourite pet?\\n\")\n",
    "\n",
    "\n",
    "print(\"Your band name is:\\n \" + city + \" \" +pet)\n",
    "\n"
   ]
  },
  {
   "cell_type": "code",
   "execution_count": null,
   "id": "4694f22b",
   "metadata": {},
   "outputs": [],
   "source": []
  },
  {
   "cell_type": "code",
   "execution_count": null,
   "id": "20b9099b",
   "metadata": {},
   "outputs": [],
   "source": []
  },
  {
   "cell_type": "code",
   "execution_count": null,
   "id": "7f1e3eca",
   "metadata": {},
   "outputs": [],
   "source": []
  }
 ],
 "metadata": {
  "kernelspec": {
   "display_name": "Python 3 (ipykernel)",
   "language": "python",
   "name": "python3"
  },
  "language_info": {
   "codemirror_mode": {
    "name": "ipython",
    "version": 3
   },
   "file_extension": ".py",
   "mimetype": "text/x-python",
   "name": "python",
   "nbconvert_exporter": "python",
   "pygments_lexer": "ipython3",
   "version": "3.11.5"
  }
 },
 "nbformat": 4,
 "nbformat_minor": 5
}
