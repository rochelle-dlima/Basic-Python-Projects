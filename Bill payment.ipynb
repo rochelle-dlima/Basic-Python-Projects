{
 "cells": [
  {
   "cell_type": "code",
   "execution_count": 4,
   "id": "1ceae28f",
   "metadata": {},
   "outputs": [
    {
     "name": "stdout",
     "output_type": "stream",
     "text": [
      "Emmanuel pays\n"
     ]
    }
   ],
   "source": [
    "import random\n",
    "\n",
    "friends = ['Alice', \"Bob\", 'Charlie' , 'David' , \"Emmanuel\"]\n",
    "randnum = random.choice(friends)\n",
    "#print(randnum)\n",
    "\n",
    "if randnum ==\"Alice\":\n",
    "    print('Alice pays')\n",
    "elif randnum ==\"Bob\":\n",
    "    print('Bob pays')\n",
    "elif randnum ==\"Charlie\":\n",
    "    print('Charlie pays')\n",
    "elif randnum ==\"David\":\n",
    "    print('David pays')\n",
    "elif randnum ==\"Emmanuel\":\n",
    "    print('Emmanuel pays')\n",
    "    \n",
    "else:\n",
    "    print(\"Try again\")"
   ]
  },
  {
   "cell_type": "code",
   "execution_count": 4,
   "id": "84321929",
   "metadata": {},
   "outputs": [],
   "source": [
    "# Method 2"
   ]
  },
  {
   "cell_type": "code",
   "execution_count": 5,
   "id": "e2555d47",
   "metadata": {},
   "outputs": [
    {
     "name": "stdout",
     "output_type": "stream",
     "text": [
      "Alice\n"
     ]
    }
   ],
   "source": [
    "friends = ['Alice', \"Bob\", 'Charlie' , 'David' , \"Emmanuel\"]\n",
    "randnum = random.randint(0,4)\n",
    "print(friends[randnum])\n",
    "\n",
    "\n",
    "\n"
   ]
  },
  {
   "cell_type": "code",
   "execution_count": null,
   "id": "6f4440e3",
   "metadata": {},
   "outputs": [],
   "source": []
  },
  {
   "cell_type": "code",
   "execution_count": null,
   "id": "eef762d6",
   "metadata": {},
   "outputs": [],
   "source": []
  }
 ],
 "metadata": {
  "kernelspec": {
   "display_name": "Python 3 (ipykernel)",
   "language": "python",
   "name": "python3"
  },
  "language_info": {
   "codemirror_mode": {
    "name": "ipython",
    "version": 3
   },
   "file_extension": ".py",
   "mimetype": "text/x-python",
   "name": "python",
   "nbconvert_exporter": "python",
   "pygments_lexer": "ipython3",
   "version": "3.11.5"
  }
 },
 "nbformat": 4,
 "nbformat_minor": 5
}
