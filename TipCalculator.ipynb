{
 "cells": [
  {
   "cell_type": "code",
   "execution_count": 1,
   "id": "4fc126a6",
   "metadata": {},
   "outputs": [
    {
     "name": "stdout",
     "output_type": "stream",
     "text": [
      "Welcome to Tip Calculator!!\n",
      "What was the total bill?5040.25\n",
      "How much tip wpuld you like to give? 10, 12 or 15?10\n",
      "How many people would split the bill?6\n",
      "Each person should pay 924.05\n"
     ]
    }
   ],
   "source": [
    "print(\"Welcome to Tip Calculator!!\")\n",
    "\n",
    "total_bill = float(input(\"What was the total bill?\"))\n",
    "tip_percent = int(input(\"How much tip wpuld you like to give? 10, 12 or 15?\"))\n",
    "split_bill = int(input(\"How many people would split the bill?\"))\n",
    "to_pay = tip_percent/100 * total_bill + total_bill    ## or tipaspercent = tip/100\n",
    "                                                       ##totltipamt = bill*tip aspercent\n",
    "                                                       ## newbill = bill + totaltipamt\n",
    "                                                      # continue\n",
    "pp = to_pay/split_bill\n",
    "final = round(pp, 2)\n",
    "print(f\"Each person should pay {final}\")"
   ]
  },
  {
   "cell_type": "code",
   "execution_count": null,
   "id": "03da5dd1",
   "metadata": {},
   "outputs": [],
   "source": []
  },
  {
   "cell_type": "code",
   "execution_count": null,
   "id": "598347e6",
   "metadata": {},
   "outputs": [],
   "source": []
  }
 ],
 "metadata": {
  "kernelspec": {
   "display_name": "Python 3 (ipykernel)",
   "language": "python",
   "name": "python3"
  },
  "language_info": {
   "codemirror_mode": {
    "name": "ipython",
    "version": 3
   },
   "file_extension": ".py",
   "mimetype": "text/x-python",
   "name": "python",
   "nbconvert_exporter": "python",
   "pygments_lexer": "ipython3",
   "version": "3.11.5"
  }
 },
 "nbformat": 4,
 "nbformat_minor": 5
}
