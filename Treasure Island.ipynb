{
 "cells": [
  {
   "cell_type": "code",
   "execution_count": 7,
   "id": "1fceb390",
   "metadata": {
    "scrolled": true
   },
   "outputs": [
    {
     "name": "stdout",
     "output_type": "stream",
     "text": [
      "         \n",
      "        /\\____;;___       | /         /\n",
      "       `. ())oo() .\n",
      "        |\\(%()*^^()^       %| |-%-------|\n",
      "      % \\ | %  ))   |\n",
      "      %  \\|%________|\n",
      "\n",
      "Welcome to Treasure Island!!\n",
      "Your mission is to find the treasure.\n",
      "You've reached a crossroad. Which direction would you like to go? left or right?\n",
      "On no, you walked into a tree.\n",
      "Game over\n"
     ]
    }
   ],
   "source": [
    "print('''         \n",
    "        /\\____;;___\\\n",
    "       | /         /\n",
    "       `. ())oo() .\n",
    "        |\\(%()*^^()^\\\n",
    "       %| |-%-------|\n",
    "      % \\ | %  ))   |\n",
    "      %  \\|%________|\n",
    "''')\n",
    "print(\"Welcome to Treasure Island!!\\nYour mission is to find the treasure.\")\n",
    "dir = input(\"You've reached a crossroad. Which direction would you like to go? left or right?\").lower()\n",
    "if dir == \"left\":\n",
    "    transport = input(\"Now you reach a lake. There is an island in the middle of the lake.\\nWould you want to swim or wait?\").lower()\n",
    "    if transport == 'wait':\n",
    "        doors = input(\"You've reached the Island. There is a house with 3 doors. /nWhich door would you choose? red, yellow or blue?\").lower()\n",
    "        if doors == 'yellow':\n",
    "                print(\"YOU WIN!\\nYou have found the treasure!\")\n",
    "        elif doors== 'red': \n",
    "                print(\"A troll has attacked you.\\nGame over\")\n",
    "        elif doors== 'blue':  \n",
    "                print(\"A strong breeze blows you off the island.\\nGame over.\")\n",
    "        else:\n",
    "                print(\"You've selected none of the options. The ground opened in the centre and swallowed you in.\\nGame over. \")\n",
    "    else:\n",
    "        print(\"An angry aligator attacks you.\\nGame over\")    \n",
    "        \n",
    "else:\n",
    "    print(\"On no, you walked into a tree.\\nGame over\")    \n",
    "    \n",
    "        \n"
   ]
  },
  {
   "cell_type": "code",
   "execution_count": null,
   "id": "a1ec12a4",
   "metadata": {},
   "outputs": [],
   "source": []
  },
  {
   "cell_type": "code",
   "execution_count": null,
   "id": "38e51f7d",
   "metadata": {},
   "outputs": [],
   "source": [
    "\n"
   ]
  },
  {
   "cell_type": "code",
   "execution_count": null,
   "id": "1da69912",
   "metadata": {},
   "outputs": [],
   "source": []
  }
 ],
 "metadata": {
  "kernelspec": {
   "display_name": "Python 3 (ipykernel)",
   "language": "python",
   "name": "python3"
  },
  "language_info": {
   "codemirror_mode": {
    "name": "ipython",
    "version": 3
   },
   "file_extension": ".py",
   "mimetype": "text/x-python",
   "name": "python",
   "nbconvert_exporter": "python",
   "pygments_lexer": "ipython3",
   "version": "3.11.5"
  }
 },
 "nbformat": 4,
 "nbformat_minor": 5
}
