{
 "cells": [
  {
   "cell_type": "code",
   "execution_count": 4,
   "id": "667068f6",
   "metadata": {},
   "outputs": [
    {
     "name": "stdout",
     "output_type": "stream",
     "text": [
      "Welcome to Pizza Deliveries!\n",
      "What size of pizza do you want? S, M or L? S\n",
      "Do you want pepperoni on it? Y or N? Y\n",
      "Pepperoni costs 30 extra\n",
      "Do you want extra cheese on it? Y or N? N\n",
      "Your bill is 100\n",
      "Thank you for ordering!\n"
     ]
    }
   ],
   "source": [
    "print(\"Welcome to Pizza Deliveries!\")\n",
    "size= input(\"What size of pizza do you want? S, M or L? \")\n",
    "bill = 0\n",
    "if size == \"L\":\n",
    "    bill = 150\n",
    "elif size ==\"M\":\n",
    "    bill = 100\n",
    "elif size == \"S\":\n",
    "    bill = 70\n",
    "pepperoni = input(\"Do you want pepperoni on it? Y or N? \")\n",
    "if pepperoni == \"Y\":\n",
    "    print(\"Pepperoni costs 30 extra\")\n",
    "    bill = bill + 30\n",
    "    \n",
    "cheese = input(\"Do you want extra cheese on it? Y or N? \")\n",
    "if cheese == \"Y\":\n",
    "    print(\"Extra cheese would cost 20\")\n",
    "    bill = bill +20\n",
    "    print(f\"Your bill is {bill}\")\n",
    "else:\n",
    "    print(f\"Your bill is {bill}\")\n",
    "print(\"Thank you for ordering!\")"
   ]
  },
  {
   "cell_type": "code",
   "execution_count": null,
   "id": "9e9617e9",
   "metadata": {},
   "outputs": [],
   "source": []
  }
 ],
 "metadata": {
  "kernelspec": {
   "display_name": "Python 3 (ipykernel)",
   "language": "python",
   "name": "python3"
  },
  "language_info": {
   "codemirror_mode": {
    "name": "ipython",
    "version": 3
   },
   "file_extension": ".py",
   "mimetype": "text/x-python",
   "name": "python",
   "nbconvert_exporter": "python",
   "pygments_lexer": "ipython3",
   "version": "3.11.5"
  }
 },
 "nbformat": 4,
 "nbformat_minor": 5
}
